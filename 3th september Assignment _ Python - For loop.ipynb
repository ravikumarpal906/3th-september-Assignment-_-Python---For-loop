{
 "cells": [
  {
   "cell_type": "markdown",
   "id": "8c740e2c-ab12-4595-8ee6-248a0f8104f2",
   "metadata": {
    "jp-MarkdownHeadingCollapsed": true,
    "tags": []
   },
   "source": [
    " # Basic Level:"
   ]
  },
  {
   "cell_type": "markdown",
   "id": "4c8fc957-155c-4ec3-aa2e-4e4a8a80bb0a",
   "metadata": {},
   "source": [
    "1. Write a Python program to print the numbers from 1 to 10 using a `for` loop."
   ]
  },
  {
   "cell_type": "code",
   "execution_count": 1,
   "id": "6103df49-ba29-485a-bae5-fd115bf5c099",
   "metadata": {},
   "outputs": [
    {
     "name": "stdout",
     "output_type": "stream",
     "text": [
      "1\n",
      "2\n",
      "3\n",
      "4\n",
      "5\n",
      "6\n",
      "7\n",
      "8\n",
      "9\n",
      "10\n"
     ]
    }
   ],
   "source": [
    "for i in range(1,11):\n",
    "    print(i)"
   ]
  },
  {
   "cell_type": "markdown",
   "id": "cf3d5c81-1560-40ae-91ad-e52dd53e7ecf",
   "metadata": {},
   "source": [
    "2. Create a program that calculates the sum of all numbers in a list using a `for` loop."
   ]
  },
  {
   "cell_type": "code",
   "execution_count": 4,
   "id": "58fd4ff6-4deb-4f1c-a486-7b0bd043d592",
   "metadata": {},
   "outputs": [
    {
     "name": "stdout",
     "output_type": "stream",
     "text": [
      "36\n"
     ]
    }
   ],
   "source": [
    "l=[1,2,3,4,5,6,7,8]\n",
    "sum=0\n",
    "for i in l:\n",
    "    sum+=i\n",
    "print(sum)"
   ]
  },
  {
   "cell_type": "markdown",
   "id": "d47087bc-87f8-4d1c-8124-815fc4e37635",
   "metadata": {},
   "source": [
    "3. Write a program to print the characters of a string in reverse order using a `for` loop."
   ]
  },
  {
   "cell_type": "code",
   "execution_count": 10,
   "id": "ffb33b07-4365-44f0-983b-a18f2c392ef1",
   "metadata": {},
   "outputs": [
    {
     "name": "stdout",
     "output_type": "stream",
     "text": [
      "s\n",
      "l\n",
      "l\n",
      "i\n",
      "k\n",
      "s\n",
      "w\n",
      "p\n"
     ]
    }
   ],
   "source": [
    "s=\"pwskills\"\n",
    "for i in range(len(s)-1,-1,-1):\n",
    "    print(s[i])\n",
    "    "
   ]
  },
  {
   "cell_type": "markdown",
   "id": "f9ec9702-b23b-4eb4-9095-8061710e6d77",
   "metadata": {},
   "source": [
    "4. Develop a program that finds the factorial of a given number using a `for` loop."
   ]
  },
  {
   "cell_type": "code",
   "execution_count": 13,
   "id": "8e47a375-1a3f-4afa-b55c-2ef566f025d7",
   "metadata": {},
   "outputs": [
    {
     "name": "stdin",
     "output_type": "stream",
     "text": [
      "enter a number 5\n"
     ]
    },
    {
     "name": "stdout",
     "output_type": "stream",
     "text": [
      "120\n"
     ]
    }
   ],
   "source": [
    "n=int(input(\"enter a number\"))\n",
    "fact=1\n",
    "for i in range(1,n+1):\n",
    "    fact*=i\n",
    "print(fact)"
   ]
  },
  {
   "cell_type": "markdown",
   "id": "31ac67bb-626a-460a-8cf5-47db02e7e71f",
   "metadata": {},
   "source": [
    "5. Create a program to print the multiplication table of a given number using a `for` loop."
   ]
  },
  {
   "cell_type": "code",
   "execution_count": 14,
   "id": "062780d6-97b4-4dde-91e3-0faca558c84d",
   "metadata": {},
   "outputs": [
    {
     "name": "stdin",
     "output_type": "stream",
     "text": [
      "enter a number 5\n"
     ]
    },
    {
     "name": "stdout",
     "output_type": "stream",
     "text": [
      "5\n",
      "10\n",
      "15\n",
      "20\n",
      "25\n",
      "30\n",
      "35\n",
      "40\n",
      "45\n",
      "50\n"
     ]
    }
   ],
   "source": [
    "n=int(input(\"enter a number\"))\n",
    "for i in range(1,11):\n",
    "    print(i*n)"
   ]
  },
  {
   "cell_type": "markdown",
   "id": "fd96871b-52f6-40fa-aff3-7bc88c28a2ea",
   "metadata": {},
   "source": [
    "6. Write a program that counts the number of even and odd numbers in a list using a `for` loop."
   ]
  },
  {
   "cell_type": "code",
   "execution_count": 16,
   "id": "49093aea-795b-418a-8be0-8d185ac70e60",
   "metadata": {},
   "outputs": [
    {
     "name": "stdout",
     "output_type": "stream",
     "text": [
      "Even number in list: 4\n",
      "Odd number in list: 5\n"
     ]
    }
   ],
   "source": [
    "l=[1,2,3,5,6,4,56,85,45]\n",
    "count_even=0\n",
    "for i in l:\n",
    "    if(i%2==0):\n",
    "        count_even+=1\n",
    "print(f\"Even number in list: {count_even}\")\n",
    "print(f\"Odd number in list: {len(l)-count_even}\")"
   ]
  },
  {
   "cell_type": "markdown",
   "id": "4b8f28dc-7004-4c93-ac1e-287a13b29fc0",
   "metadata": {},
   "source": [
    "7. Develop a program that prints the squares of numbers from 1 to 5 using a `for` loop."
   ]
  },
  {
   "cell_type": "code",
   "execution_count": 17,
   "id": "f5ab0df1-ca96-4d21-9c1d-fc4f8bfe5e6b",
   "metadata": {},
   "outputs": [
    {
     "name": "stdout",
     "output_type": "stream",
     "text": [
      "1\n",
      "4\n",
      "9\n",
      "16\n",
      "25\n"
     ]
    }
   ],
   "source": [
    "for i in range(1,6):\n",
    "    print(i*i)"
   ]
  },
  {
   "cell_type": "markdown",
   "id": "9a536b8b-d2c9-4935-8d59-6dcbe157b191",
   "metadata": {},
   "source": [
    "8. Create a program to find the length of a string without using the `len()` function."
   ]
  },
  {
   "cell_type": "code",
   "execution_count": 18,
   "id": "fe530895-18e2-40e7-a49c-c8ddb936e0a8",
   "metadata": {},
   "outputs": [
    {
     "name": "stdout",
     "output_type": "stream",
     "text": [
      "8\n"
     ]
    }
   ],
   "source": [
    "s=\"pwskills\"\n",
    "length=0\n",
    "for i in s:\n",
    "    length+=1\n",
    "print(length)"
   ]
  },
  {
   "cell_type": "markdown",
   "id": "1e72f632-6f11-4ca2-b67f-e5179b1cd694",
   "metadata": {},
   "source": [
    "9. Write a program that calculates the average of a list of numbers using a `for` loop."
   ]
  },
  {
   "cell_type": "code",
   "execution_count": 19,
   "id": "ab117b47-851e-4689-bed7-1ee28e904814",
   "metadata": {},
   "outputs": [
    {
     "name": "stdout",
     "output_type": "stream",
     "text": [
      "Average of list of number :4.4\n"
     ]
    }
   ],
   "source": [
    "l=[1,2,5,6,3,5,8,4,5,5]\n",
    "sum=0\n",
    "for i in l:\n",
    "    sum+=i\n",
    "print(f\"Average of list of number :{sum/len(l)}\")"
   ]
  },
  {
   "cell_type": "markdown",
   "id": "4f244da7-d863-4d9a-9070-c1bb27160ded",
   "metadata": {},
   "source": [
    "10. Develop a program that prints the first `n` Fibonacci numbers using a `for` loop."
   ]
  },
  {
   "cell_type": "code",
   "execution_count": 20,
   "id": "3a072ef4-8587-44f6-802f-9b154cc6733b",
   "metadata": {},
   "outputs": [],
   "source": [
    "def fib_no(n):\n",
    "    first_no=0\n",
    "    second_no=1\n",
    "    for i in range(n):\n",
    "        print(first_no)\n",
    "        c=first_no+second_no\n",
    "        first_no=second_no\n",
    "        second_no=c"
   ]
  },
  {
   "cell_type": "code",
   "execution_count": 23,
   "id": "7f7e3a80-7eaf-4008-b437-f69d5b84db72",
   "metadata": {},
   "outputs": [
    {
     "name": "stdout",
     "output_type": "stream",
     "text": [
      "0\n",
      "1\n",
      "1\n",
      "2\n",
      "3\n",
      "5\n",
      "8\n",
      "13\n",
      "21\n",
      "34\n"
     ]
    }
   ],
   "source": [
    "fib_no(10)"
   ]
  },
  {
   "cell_type": "markdown",
   "id": "7f04ba8b-b4be-4969-b2ab-97aa3a26a918",
   "metadata": {
    "jp-MarkdownHeadingCollapsed": true,
    "tags": []
   },
   "source": [
    "# Intermediate Level:"
   ]
  },
  {
   "cell_type": "markdown",
   "id": "ee361a3c-1551-4c85-a725-3494f5289259",
   "metadata": {},
   "source": [
    "11. Write a program to check if a given list contains any duplicates using a `for` loop."
   ]
  },
  {
   "cell_type": "code",
   "execution_count": 4,
   "id": "336dae50-b195-45ae-b5a3-27a3abf675e7",
   "metadata": {},
   "outputs": [],
   "source": [
    "def has_duplicate(l):\n",
    "    unique_element = set()\n",
    "    for i in l:\n",
    "        if i in unique_element:\n",
    "            return True\n",
    "        else:\n",
    "            unique_element.add(i)\n",
    "    return False"
   ]
  },
  {
   "cell_type": "code",
   "execution_count": 7,
   "id": "dfaefa52-9ae0-4bfd-a5a6-2fe7c71f3547",
   "metadata": {},
   "outputs": [
    {
     "name": "stdout",
     "output_type": "stream",
     "text": [
      "list does not have any duplicate element\n"
     ]
    }
   ],
   "source": [
    "if has_duplicate([1,2,3]):\n",
    "    print(\"list has duplicate element\")\n",
    "else:\n",
    "    print(\"list does not have any duplicate element\")"
   ]
  },
  {
   "cell_type": "markdown",
   "id": "1e1b9124-a1bd-49b5-a861-bafc652ff806",
   "metadata": {},
   "source": [
    "12. Create a program that prints the prime numbers in a given range using a `for` loop."
   ]
  },
  {
   "cell_type": "code",
   "execution_count": 15,
   "id": "e00d4438-556d-4782-81ba-c30333620d81",
   "metadata": {},
   "outputs": [],
   "source": [
    "def is_prime(num):\n",
    "    if num<=1:\n",
    "        return False\n",
    "    if num<=3:\n",
    "        return True\n",
    "    i=2\n",
    "    while i*i<=num:\n",
    "        if num%i==0 :\n",
    "            return False\n",
    "        i+=1\n",
    "    return True\n",
    "\n",
    "def print_prime(start,end):\n",
    "    for i in range(start,end+1):\n",
    "        if is_prime(i):\n",
    "            print(i)\n",
    "            "
   ]
  },
  {
   "cell_type": "code",
   "execution_count": 18,
   "id": "62329a11-f334-46ae-b4a1-9eddcd82282c",
   "metadata": {},
   "outputs": [
    {
     "name": "stdout",
     "output_type": "stream",
     "text": [
      "2\n",
      "3\n",
      "5\n",
      "7\n",
      "11\n",
      "13\n",
      "17\n",
      "19\n",
      "23\n"
     ]
    }
   ],
   "source": [
    "print_prime(1,25)"
   ]
  },
  {
   "cell_type": "markdown",
   "id": "5cce681e-e25a-4650-b72f-4fb84e545107",
   "metadata": {},
   "source": [
    "13. Develop a program that counts the number of vowels in a string using a `for` loop."
   ]
  },
  {
   "cell_type": "code",
   "execution_count": 25,
   "id": "6172fedf-adfe-4ce2-8d13-158027d1ef33",
   "metadata": {},
   "outputs": [
    {
     "name": "stdin",
     "output_type": "stream",
     "text": [
      "enter a string AAABBBBCCEE\n"
     ]
    },
    {
     "name": "stdout",
     "output_type": "stream",
     "text": [
      "number of vowels in string 5\n"
     ]
    }
   ],
   "source": [
    "list_of_vowels=\"aeiouAEIOU\"\n",
    "string = input(\"enter a string\")\n",
    "count_vowels=0\n",
    "for i in string:\n",
    "    if i in list_of_vowels:\n",
    "        count_vowels+=1\n",
    "print(f\"number of vowels in string {count_vowels}\")"
   ]
  },
  {
   "cell_type": "markdown",
   "id": "d057cb05-1dde-40ef-8276-6e6561be25c0",
   "metadata": {},
   "source": [
    "14. Write a program to find the maximum element in a 2D list using a nested `for` loop."
   ]
  },
  {
   "cell_type": "code",
   "execution_count": 2,
   "id": "c05affa9-a308-4385-8af9-21a5b7aaeed5",
   "metadata": {},
   "outputs": [
    {
     "name": "stdout",
     "output_type": "stream",
     "text": [
      "maximum element in 2d List is : 9\n"
     ]
    }
   ],
   "source": [
    "def find_max(arr):\n",
    "    max_element = arr[0][0]\n",
    "    for i in arr:\n",
    "        for j in i:\n",
    "            if j>max_element:\n",
    "                max_element=j\n",
    "    return max_element\n",
    "\n",
    "two_d_list=[\n",
    "    [5,5,5],\n",
    "    [5,8,6],\n",
    "    [8,5,9,8]]\n",
    "\n",
    "max_number = find_max(two_d_list)\n",
    "print(\"maximum element in 2d List is :\",max_number)"
   ]
  },
  {
   "cell_type": "markdown",
   "id": "cbb8fb22-87cf-45ce-833f-c9a96f2a4316",
   "metadata": {},
   "source": [
    "15. Create a program that removes all occurrences of a specific element from a list using a `for` loop."
   ]
  },
  {
   "cell_type": "code",
   "execution_count": 5,
   "id": "95b3355b-83c3-44eb-9dbf-379dca7b231f",
   "metadata": {},
   "outputs": [
    {
     "name": "stdout",
     "output_type": "stream",
     "text": [
      "Original list : [2, 5, 8, 4, 6, 3, 5, 8, 7, 5]\n",
      "List After removing of all occurrence of 5 : [2, 8, 4, 6, 3, 8, 7]\n"
     ]
    }
   ],
   "source": [
    "def remove_specific_element(lst,element_to_remove):\n",
    "    new_list=[]\n",
    "    for i in lst:\n",
    "        if i!=element_to_remove:\n",
    "            new_list.append(i)\n",
    "    return new_list\n",
    "\n",
    "original_list = [2,5,8,4,6,3,5,8,7,5]\n",
    "element_to_remove = 5\n",
    "\n",
    "result_list = remove_specific_element(original_list, element_to_remove)\n",
    "\n",
    "print(\"Original list :\",original_list)\n",
    "print(\"List After removing of all occurrence of\",element_to_remove,\":\",result_list)"
   ]
  },
  {
   "cell_type": "markdown",
   "id": "85450a37-8068-424f-bbbf-6daf51f54b6f",
   "metadata": {},
   "source": [
    "16. Develop a program that generates a multiplication table for numbers from 1 to 5 using a nested `for` loop."
   ]
  },
  {
   "cell_type": "code",
   "execution_count": 6,
   "id": "2297b9cb-81f2-4189-a3bc-0651d9061c64",
   "metadata": {},
   "outputs": [
    {
     "name": "stdout",
     "output_type": "stream",
     "text": [
      "Multiplication table for 1:\n",
      "1 x 1 = 1\n",
      "1 x 2 = 2\n",
      "1 x 3 = 3\n",
      "1 x 4 = 4\n",
      "1 x 5 = 5\n",
      "1 x 6 = 6\n",
      "1 x 7 = 7\n",
      "1 x 8 = 8\n",
      "1 x 9 = 9\n",
      "1 x 10 = 10\n",
      "\n",
      "Multiplication table for 2:\n",
      "2 x 1 = 2\n",
      "2 x 2 = 4\n",
      "2 x 3 = 6\n",
      "2 x 4 = 8\n",
      "2 x 5 = 10\n",
      "2 x 6 = 12\n",
      "2 x 7 = 14\n",
      "2 x 8 = 16\n",
      "2 x 9 = 18\n",
      "2 x 10 = 20\n",
      "\n",
      "Multiplication table for 3:\n",
      "3 x 1 = 3\n",
      "3 x 2 = 6\n",
      "3 x 3 = 9\n",
      "3 x 4 = 12\n",
      "3 x 5 = 15\n",
      "3 x 6 = 18\n",
      "3 x 7 = 21\n",
      "3 x 8 = 24\n",
      "3 x 9 = 27\n",
      "3 x 10 = 30\n",
      "\n",
      "Multiplication table for 4:\n",
      "4 x 1 = 4\n",
      "4 x 2 = 8\n",
      "4 x 3 = 12\n",
      "4 x 4 = 16\n",
      "4 x 5 = 20\n",
      "4 x 6 = 24\n",
      "4 x 7 = 28\n",
      "4 x 8 = 32\n",
      "4 x 9 = 36\n",
      "4 x 10 = 40\n",
      "\n",
      "Multiplication table for 5:\n",
      "5 x 1 = 5\n",
      "5 x 2 = 10\n",
      "5 x 3 = 15\n",
      "5 x 4 = 20\n",
      "5 x 5 = 25\n",
      "5 x 6 = 30\n",
      "5 x 7 = 35\n",
      "5 x 8 = 40\n",
      "5 x 9 = 45\n",
      "5 x 10 = 50\n",
      "\n"
     ]
    }
   ],
   "source": [
    "# Define the range for the multiplication table\n",
    "start = 1\n",
    "end = 5\n",
    "\n",
    "# Nested for loop to generate the multiplication table\n",
    "for i in range(start, end + 1):\n",
    "    print(f\"Multiplication table for {i}:\")\n",
    "\n",
    "    for j in range(1, 11):  # Multiplying from 1 to 10\n",
    "        result = i * j\n",
    "        print(f\"{i} x {j} = {result}\")\n",
    "\n",
    "    print()  # Add an empty line to separate tables\n"
   ]
  },
  {
   "cell_type": "markdown",
   "id": "ccaf8738-86cb-4a4e-9ebe-3635037d6226",
   "metadata": {},
   "source": [
    "17. Write a program that converts a list of Fahrenheit temperatures to Celsius using a `for` loop."
   ]
  },
  {
   "cell_type": "code",
   "execution_count": 7,
   "id": "a1750afb-e62a-4954-961d-a78e4de30962",
   "metadata": {},
   "outputs": [
    {
     "name": "stdout",
     "output_type": "stream",
     "text": [
      "Fahrenheit Temperatures: [32, 68, 86, 104, 212]\n",
      "Celsius Temperatures: [0.0, 20.0, 30.0, 40.0, 100.0]\n"
     ]
    }
   ],
   "source": [
    "def fahrenheit_to_celsius(fahrenheit):\n",
    "    return (fahrenheit - 32) * 5/9\n",
    "\n",
    "# List of Fahrenheit temperatures\n",
    "fahrenheit_temperatures = [32, 68, 86, 104, 212]\n",
    "\n",
    "# List to store the converted temperatures in Celsius\n",
    "celsius_temperatures = []\n",
    "\n",
    "# Convert the temperatures using a for loop\n",
    "for fahrenheit in fahrenheit_temperatures:\n",
    "    celsius = fahrenheit_to_celsius(fahrenheit)\n",
    "    celsius_temperatures.append(celsius)\n",
    "\n",
    "# Print the results\n",
    "print(\"Fahrenheit Temperatures:\", fahrenheit_temperatures)\n",
    "print(\"Celsius Temperatures:\", celsius_temperatures)\n"
   ]
  },
  {
   "cell_type": "markdown",
   "id": "e5ab9a25-6874-46f0-ab5d-728d3ea7c7c4",
   "metadata": {},
   "source": [
    "18. Create a program to print the common elements from two lists using a `for` loop."
   ]
  },
  {
   "cell_type": "code",
   "execution_count": 8,
   "id": "1691d7ab-19e7-4b39-ad4f-b3a05cd9bb5c",
   "metadata": {},
   "outputs": [
    {
     "name": "stdout",
     "output_type": "stream",
     "text": [
      "Common elements in the lists: [3, 4, 5]\n"
     ]
    }
   ],
   "source": [
    "def find_common_elements(list1, list2):\n",
    "    common_elements = []\n",
    "    \n",
    "    for item1 in list1:\n",
    "        for item2 in list2:\n",
    "            if item1 == item2:\n",
    "                common_elements.append(item1)\n",
    "    \n",
    "    return common_elements\n",
    "\n",
    "# Example usage:\n",
    "list1 = [1, 2, 3, 4, 5]\n",
    "list2 = [3, 4, 5, 6, 7]\n",
    "\n",
    "common_elements = find_common_elements(list1, list2)\n",
    "\n",
    "if common_elements:\n",
    "    print(\"Common elements in the lists:\", common_elements)\n",
    "else:\n",
    "    print(\"There are no common elements in the lists.\")\n"
   ]
  },
  {
   "cell_type": "markdown",
   "id": "7f323f8a-4061-4575-bd8c-4fb0f0399d79",
   "metadata": {},
   "source": [
    "19. Develop a program that prints the pattern of right-angled triangles using a `for` loop. Use ‘*’ to draw the\n",
    "pattern"
   ]
  },
  {
   "cell_type": "code",
   "execution_count": 9,
   "id": "a5b7438d-762f-4cec-81ae-279ac8c55a0d",
   "metadata": {},
   "outputs": [
    {
     "name": "stdout",
     "output_type": "stream",
     "text": [
      "* \n",
      "* * \n",
      "* * * \n",
      "* * * * \n",
      "* * * * * \n"
     ]
    }
   ],
   "source": [
    "def print_right_angle_triangle(rows):\n",
    "    for i in range(1, rows + 1):\n",
    "        for j in range(1, i + 1):\n",
    "            print('*', end=' ')\n",
    "        print()\n",
    "\n",
    "# Example usage:\n",
    "rows = 5\n",
    "print_right_angle_triangle(rows)\n"
   ]
  },
  {
   "cell_type": "markdown",
   "id": "e6223f0c-8823-4554-8eed-820a56902094",
   "metadata": {},
   "source": [
    "20. Write a program to find the greatest common divisor (GCD) of two numbers using a `for` loop."
   ]
  },
  {
   "cell_type": "code",
   "execution_count": 10,
   "id": "687e7d34-90dd-47e8-be97-f401e58c076e",
   "metadata": {},
   "outputs": [
    {
     "name": "stdin",
     "output_type": "stream",
     "text": [
      "Enter the first number:  5\n",
      "Enter the second number:  25\n"
     ]
    },
    {
     "name": "stdout",
     "output_type": "stream",
     "text": [
      "The Greatest Common Divisor (GCD) of 5 and 25 is 5\n"
     ]
    }
   ],
   "source": [
    "def find_gcd(a, b):\n",
    "    while b:\n",
    "        a, b = b, a % b\n",
    "    return a\n",
    "\n",
    "# Input two numbers\n",
    "num1 = int(input(\"Enter the first number: \"))\n",
    "num2 = int(input(\"Enter the second number: \"))\n",
    "\n",
    "# Find and print the GCD\n",
    "gcd = find_gcd(num1, num2)\n",
    "print(\"The Greatest Common Divisor (GCD) of\", num1, \"and\", num2, \"is\", gcd)\n"
   ]
  },
  {
   "cell_type": "markdown",
   "id": "a1526a30-2032-471e-acfb-b95b8b934925",
   "metadata": {
    "jp-MarkdownHeadingCollapsed": true,
    "tags": []
   },
   "source": [
    "# Advanced Level:"
   ]
  },
  {
   "cell_type": "markdown",
   "id": "13f4048f-71e1-46c5-8450-1f8c2f2e7b5b",
   "metadata": {},
   "source": [
    "21. Create a program that calculates the sum of the digits of numbers in a list using a list comprehension."
   ]
  },
  {
   "cell_type": "code",
   "execution_count": 42,
   "id": "b7563122-0cc2-434c-bb3f-fc55128266bc",
   "metadata": {},
   "outputs": [
    {
     "ename": "TypeError",
     "evalue": "'int' object is not callable",
     "output_type": "error",
     "traceback": [
      "\u001b[0;31m---------------------------------------------------------------------------\u001b[0m",
      "\u001b[0;31mTypeError\u001b[0m                                 Traceback (most recent call last)",
      "Cell \u001b[0;32mIn[42], line 13\u001b[0m\n\u001b[1;32m     10\u001b[0m lst\u001b[38;5;241m=\u001b[39m[\u001b[38;5;241m456\u001b[39m,\u001b[38;5;241m789\u001b[39m,\u001b[38;5;241m123\u001b[39m]\n\u001b[1;32m     12\u001b[0m \u001b[38;5;66;03m# Calulate the sum of digit for each number using a list comprehension\u001b[39;00m\n\u001b[0;32m---> 13\u001b[0m sums\u001b[38;5;241m=\u001b[39m[digit_sum(i) \u001b[38;5;28;01mfor\u001b[39;00m i \u001b[38;5;129;01min\u001b[39;00m lst]\n\u001b[1;32m     15\u001b[0m \u001b[38;5;28;01mfor\u001b[39;00m i \u001b[38;5;129;01min\u001b[39;00m \u001b[38;5;28mrange\u001b[39m(\u001b[38;5;28mlen\u001b[39m(sums)):\n\u001b[1;32m     16\u001b[0m     \u001b[38;5;28mprint\u001b[39m(\u001b[38;5;124mf\u001b[39m\u001b[38;5;124m\"\u001b[39m\u001b[38;5;124msum of digit for \u001b[39m\u001b[38;5;132;01m{\u001b[39;00mlst[i]\u001b[38;5;132;01m}\u001b[39;00m\u001b[38;5;124m is \u001b[39m\u001b[38;5;132;01m{\u001b[39;00msums[i]\u001b[38;5;132;01m}\u001b[39;00m\u001b[38;5;124m\"\u001b[39m)\n",
      "Cell \u001b[0;32mIn[42], line 13\u001b[0m, in \u001b[0;36m<listcomp>\u001b[0;34m(.0)\u001b[0m\n\u001b[1;32m     10\u001b[0m lst\u001b[38;5;241m=\u001b[39m[\u001b[38;5;241m456\u001b[39m,\u001b[38;5;241m789\u001b[39m,\u001b[38;5;241m123\u001b[39m]\n\u001b[1;32m     12\u001b[0m \u001b[38;5;66;03m# Calulate the sum of digit for each number using a list comprehension\u001b[39;00m\n\u001b[0;32m---> 13\u001b[0m sums\u001b[38;5;241m=\u001b[39m[\u001b[43mdigit_sum\u001b[49m\u001b[43m(\u001b[49m\u001b[43mi\u001b[49m\u001b[43m)\u001b[49m \u001b[38;5;28;01mfor\u001b[39;00m i \u001b[38;5;129;01min\u001b[39;00m lst]\n\u001b[1;32m     15\u001b[0m \u001b[38;5;28;01mfor\u001b[39;00m i \u001b[38;5;129;01min\u001b[39;00m \u001b[38;5;28mrange\u001b[39m(\u001b[38;5;28mlen\u001b[39m(sums)):\n\u001b[1;32m     16\u001b[0m     \u001b[38;5;28mprint\u001b[39m(\u001b[38;5;124mf\u001b[39m\u001b[38;5;124m\"\u001b[39m\u001b[38;5;124msum of digit for \u001b[39m\u001b[38;5;132;01m{\u001b[39;00mlst[i]\u001b[38;5;132;01m}\u001b[39;00m\u001b[38;5;124m is \u001b[39m\u001b[38;5;132;01m{\u001b[39;00msums[i]\u001b[38;5;132;01m}\u001b[39;00m\u001b[38;5;124m\"\u001b[39m)\n",
      "Cell \u001b[0;32mIn[42], line 7\u001b[0m, in \u001b[0;36mdigit_sum\u001b[0;34m(num)\u001b[0m\n\u001b[1;32m      5\u001b[0m num_str\u001b[38;5;241m=\u001b[39m\u001b[38;5;28mstr\u001b[39m(num)\n\u001b[1;32m      6\u001b[0m digit_list\u001b[38;5;241m=\u001b[39m[\u001b[38;5;28mint\u001b[39m(digit) \u001b[38;5;28;01mfor\u001b[39;00m digit \u001b[38;5;129;01min\u001b[39;00m num_str]\n\u001b[0;32m----> 7\u001b[0m \u001b[38;5;28;01mreturn\u001b[39;00m \u001b[38;5;28;43msum\u001b[39;49m\u001b[43m(\u001b[49m\u001b[43mdigit_list\u001b[49m\u001b[43m)\u001b[49m\n",
      "\u001b[0;31mTypeError\u001b[0m: 'int' object is not callable"
     ]
    }
   ],
   "source": [
    "#  it is may be give you error only this pw_lab and other platform IDE run properly\n",
    "\n",
    "def digit_sum(num):\n",
    "    #convert the number to a string to iterate through its digits\n",
    "    num_str=str(num)\n",
    "    digit_list=[int(digit) for digit in num_str]\n",
    "    return sum(digit_list)\n",
    "\n",
    "# Example list of numbers\n",
    "lst=[456,789,123]\n",
    "\n",
    "# Calulate the sum of digit for each number using a list comprehension\n",
    "sums=[digit_sum(i) for i in lst]\n",
    "\n",
    "for i in range(len(sums)):\n",
    "    print(f\"sum of digit for {lst[i]} is {sums[i]}\")"
   ]
  },
  {
   "cell_type": "markdown",
   "id": "c0fff2a7-0642-463b-b721-34b2d3b5f553",
   "metadata": {},
   "source": [
    "22. Write a program to find the prime factors of a given number using a `for` loop and list comprehension."
   ]
  },
  {
   "cell_type": "code",
   "execution_count": 46,
   "id": "4e04c0d1-ec1f-4410-adc6-e1646c8759f1",
   "metadata": {},
   "outputs": [
    {
     "name": "stdin",
     "output_type": "stream",
     "text": [
      "enter a number 60\n"
     ]
    },
    {
     "name": "stdout",
     "output_type": "stream",
     "text": [
      "Prime factor of 60: [2, 3, 5]\n"
     ]
    }
   ],
   "source": [
    "def is_prime(n):\n",
    "    if n<=1:\n",
    "        return False\n",
    "    for i in range(2,n//2+1):\n",
    "        if n%i==0:\n",
    "            return False\n",
    "    return True\n",
    "\n",
    "def prime_factor(number):\n",
    "    factors=[i for i in range(2,number+1) if number%i==0 and is_prime(i)]\n",
    "    return factors\n",
    "\n",
    "number=int(input(\"enter a number\"))\n",
    "if number<2:\n",
    "    print(f\"No prime factor for {number}\")\n",
    "else:\n",
    "    factors=prime_factor(number)\n",
    "    print(f\"Prime factor of {number}: {factors}\")"
   ]
  },
  {
   "cell_type": "markdown",
   "id": "eedd6c3f-69c5-4717-abdc-37f850b732f6",
   "metadata": {},
   "source": [
    "23. Develop a program that extracts unique elements from a list and stores them in a new list using a list\n",
    "comprehension."
   ]
  },
  {
   "cell_type": "code",
   "execution_count": 49,
   "id": "c71d8d50-467b-4b17-a599-fd2658937972",
   "metadata": {},
   "outputs": [
    {
     "name": "stdout",
     "output_type": "stream",
     "text": [
      "Original List: [1, 2, 3, 4, 5, 6, 5, 2, 5, 1, 5, 2, 5]\n",
      "Unique List: [1, 2, 3, 4, 5, 6]\n"
     ]
    }
   ],
   "source": [
    "input_list=[1,2,3,4,5,6,5,2,5,1,5,2,5]\n",
    "\n",
    "# Create a new list with unique element using a list comprehension\n",
    "unique_list = [x for i,x in enumerate(input_list) if x not in input_list[:i]]\n",
    "print(\"Original List:\", input_list)\n",
    "print(\"Unique List:\", unique_list)"
   ]
  },
  {
   "cell_type": "markdown",
   "id": "b60671b2-cabc-4efd-bea1-df833b1eef1c",
   "metadata": {},
   "source": [
    "24. Create a program that generates a list of all palindromic numbers up to a specified limit using a list\n",
    "comprehension."
   ]
  },
  {
   "cell_type": "code",
   "execution_count": 55,
   "id": "ebe6dd60-d08b-40de-bc82-fcd9bf8c4b4a",
   "metadata": {},
   "outputs": [
    {
     "name": "stdin",
     "output_type": "stream",
     "text": [
      "Enter the limit: 500\n"
     ]
    },
    {
     "name": "stdout",
     "output_type": "stream",
     "text": [
      "Palindrome number is : [1, 2, 3, 4, 5, 6, 7, 8, 9, 11, 22, 33, 44, 55, 66, 77, 88, 99, 101, 111, 121, 131, 141, 151, 161, 171, 181, 191, 202, 212, 222, 232, 242, 252, 262, 272, 282, 292, 303, 313, 323, 333, 343, 353, 363, 373, 383, 393, 404, 414, 424, 434, 444, 454, 464, 474, 484, 494]\n"
     ]
    }
   ],
   "source": [
    "def is_palindrome(number):\n",
    "    if str(number)==str(number)[::-1]:\n",
    "        return True\n",
    "# specify the limit for generating palindromic number\n",
    "limit = int(input(\"Enter the limit:\"))\n",
    "            \n",
    "palindrome_number=[i for i in range(1,limit+1) if is_palindrome(i)]\n",
    "print(f\"Palindrome number is : {palindrome_number}\")"
   ]
  },
  {
   "cell_type": "markdown",
   "id": "90f8733c-252b-4d4b-bd33-f5252fb3fc3c",
   "metadata": {},
   "source": [
    "25. Write a program to flatten a nested list using list comprehension."
   ]
  },
  {
   "cell_type": "code",
   "execution_count": 56,
   "id": "c8aefc14-3f9f-471a-b179-764278050163",
   "metadata": {},
   "outputs": [
    {
     "name": "stdout",
     "output_type": "stream",
     "text": [
      "Original Nested List: [[1, 2, 3], [4, 5], [6, 7, 8, 9]]\n",
      "Flattened List: [1, 2, 3, 4, 5, 6, 7, 8, 9]\n"
     ]
    }
   ],
   "source": [
    "# Function to flatten a nested list using list comprehension\n",
    "def flatten_list(nested_list):\n",
    "    return [item for sublist in nested_list for item in sublist]\n",
    "\n",
    "# Example nested list\n",
    "nested_list = [[1, 2, 3], [4, 5], [6, 7, 8, 9]]\n",
    "\n",
    "# Flatten the nested list\n",
    "flattened_list = flatten_list(nested_list)\n",
    "\n",
    "# Print the flattened list\n",
    "print(\"Original Nested List:\", nested_list)\n",
    "print(\"Flattened List:\", flattened_list)\n"
   ]
  },
  {
   "cell_type": "markdown",
   "id": "fde9a0a5-4952-4e5f-8022-322b3a9d9e0f",
   "metadata": {},
   "source": [
    "26. Develop a program that computes the sum of even and odd numbers in a list separately using list\n",
    "comprehension."
   ]
  },
  {
   "cell_type": "code",
   "execution_count": 1,
   "id": "58208b05-c2a9-4322-8fb8-ba703d391209",
   "metadata": {},
   "outputs": [
    {
     "name": "stdout",
     "output_type": "stream",
     "text": [
      "sum of even number: 16\n",
      "sum of odd number: 51\n"
     ]
    }
   ],
   "source": [
    "lst=[1,3,3,5,5,8,2,23,5,6,3,3]\n",
    "even_number = [i for i in lst if i%2==0]\n",
    "odd_number = [i for i in lst if i%2!=0]\n",
    "\n",
    "print(\"sum of even number:\",sum(even_number))\n",
    "print(\"sum of odd number:\",sum(odd_number))"
   ]
  },
  {
   "cell_type": "markdown",
   "id": "2dcaa17b-8766-4c0a-9899-7f4fce56a10a",
   "metadata": {},
   "source": [
    "27. Create a program that generates a list of squares of odd numbers between 1 and 10 using list\n",
    "comprehension."
   ]
  },
  {
   "cell_type": "code",
   "execution_count": 3,
   "id": "3303544c-4240-46cb-ac86-bcbf36f173cc",
   "metadata": {},
   "outputs": [
    {
     "name": "stdout",
     "output_type": "stream",
     "text": [
      "List of square of odd number: [1, 9, 25, 49, 81]\n"
     ]
    }
   ],
   "source": [
    "# generate list of square of odd number between 1 to 10\n",
    "square_of_odd = [i*i for i in range(1,10) if i%2!=0]\n",
    "print(\"List of square of odd number:\",square_of_odd)"
   ]
  },
  {
   "cell_type": "markdown",
   "id": "5cf83346-f1ab-478d-9440-56136ac33e66",
   "metadata": {},
   "source": [
    "28. Write a program that combines two lists into a dictionary using list comprehension."
   ]
  },
  {
   "cell_type": "code",
   "execution_count": 4,
   "id": "f3b3cf4c-3610-470b-a65b-54d8335cde63",
   "metadata": {},
   "outputs": [
    {
     "name": "stdout",
     "output_type": "stream",
     "text": [
      "{'a': 1, 'b': 2, 'c': 3}\n"
     ]
    }
   ],
   "source": [
    "# Sample lists\n",
    "keys = ['a', 'b', 'c']\n",
    "values = [1, 2, 3]\n",
    "\n",
    "# Using list comprehension to create a dictionary\n",
    "result_dict = {key: value for key, value in zip(keys, values)}\n",
    "\n",
    "# Printing the resulting dictionary\n",
    "print(result_dict)\n"
   ]
  },
  {
   "cell_type": "markdown",
   "id": "8f81c91c-e32f-4663-906f-03f4305b14c2",
   "metadata": {},
   "source": [
    "29. Develop a program that extracts the vowels from a string and stores them in a list using list comprehension."
   ]
  },
  {
   "cell_type": "code",
   "execution_count": 7,
   "id": "a49b0b8b-6bf2-4935-8c24-bec5c243c0aa",
   "metadata": {},
   "outputs": [
    {
     "name": "stdin",
     "output_type": "stream",
     "text": [
      "enter a string alla\n"
     ]
    },
    {
     "name": "stdout",
     "output_type": "stream",
     "text": [
      "List of Vowels in string: ['a', 'a']\n"
     ]
    }
   ],
   "source": [
    "\n",
    "vowels =\"AEIOUaeiou\"\n",
    "string = input(\"enter a string\")\n",
    "vowel_lst=[i for i in string if i in vowels]\n",
    "print(\"List of Vowels in string:\",vowel_lst)"
   ]
  },
  {
   "cell_type": "markdown",
   "id": "2a42deee-2dfe-4c41-9748-c9cb99d9f1fa",
   "metadata": {},
   "source": [
    "30. Create a program that removes all non-numeric characters from a list of strings using list comprehension."
   ]
  },
  {
   "cell_type": "code",
   "execution_count": 8,
   "id": "5e7d2078-b26c-4009-96af-de415f084928",
   "metadata": {},
   "outputs": [
    {
     "name": "stdout",
     "output_type": "stream",
     "text": [
      "['123', '456', '12', '789']\n"
     ]
    }
   ],
   "source": [
    "# Sample list of strings\n",
    "string_list = [\"abc123\", \"def456\", \"12ghijk\", \"lmn789\"]\n",
    "\n",
    "# Using list comprehension to remove non-numeric characters from each string\n",
    "numeric_strings = [''.join(char for char in s if char.isnumeric()) for s in string_list]\n",
    "\n",
    "# Printing the list of strings with non-numeric characters removed\n",
    "print(numeric_strings)\n"
   ]
  },
  {
   "cell_type": "markdown",
   "id": "a788fc0c-b2dd-4c56-86e8-0d46c7ee06bf",
   "metadata": {},
   "source": [
    "# Challenge Level:"
   ]
  },
  {
   "cell_type": "markdown",
   "id": "d969dcd9-9c9f-4a94-8dde-4353537a3234",
   "metadata": {},
   "source": [
    "31. Write a program to generate a list of prime numbers using the Sieve of Eratosthenes algorithm and list\n",
    "comprehension."
   ]
  },
  {
   "cell_type": "code",
   "execution_count": 9,
   "id": "64ab9e3b-0ff4-434c-80e1-b2b8c7549a05",
   "metadata": {},
   "outputs": [
    {
     "name": "stdout",
     "output_type": "stream",
     "text": [
      "[2, 3, 5, 7, 11, 13, 17, 19, 23, 29, 31, 37, 41, 43, 47]\n"
     ]
    }
   ],
   "source": [
    "def sieve_eratosthenes(limit):\n",
    "    # Create a boolean list to mark prime numbers\n",
    "    is_prime = [True] * (limit + 1)\n",
    "    is_prime[0] = is_prime[1] = False  # 0 and 1 are not prime\n",
    "\n",
    "    # Mark multiples of each prime number as non-prime\n",
    "    for current in range(2, int(limit**0.5) + 1):\n",
    "        if is_prime[current]:\n",
    "            for multiple in range(current**2, limit + 1, current):\n",
    "                is_prime[multiple] = False\n",
    "\n",
    "    # Use list comprehension to generate a list of prime numbers\n",
    "    prime_numbers = [num for num in range(2, limit + 1) if is_prime[num]]\n",
    "\n",
    "    return prime_numbers\n",
    "\n",
    "# Input: Set the upper limit for finding prime numbers\n",
    "limit = 50\n",
    "\n",
    "# Generate and print the list of prime numbers up to the given limit\n",
    "prime_numbers = sieve_eratosthenes(limit)\n",
    "print(prime_numbers)\n"
   ]
  },
  {
   "cell_type": "markdown",
   "id": "7ca35653-f5cd-445f-b723-b35cae1a3e4d",
   "metadata": {},
   "source": [
    "32. Create a program that generates a list of all Pythagorean triplets up to a specified limit using list\n",
    "comprehension."
   ]
  },
  {
   "cell_type": "code",
   "execution_count": 10,
   "id": "b83e57ee-ffb7-4167-89a7-3876a1040173",
   "metadata": {},
   "outputs": [
    {
     "name": "stdout",
     "output_type": "stream",
     "text": [
      "[(3, 4, 5), (5, 12, 13), (6, 8, 10), (8, 15, 17), (9, 12, 15)]\n"
     ]
    }
   ],
   "source": [
    "def generate_pythagorean_triplets(limit):\n",
    "    triplets = [(a, b, c) for a in range(1, limit) for b in range(a, limit) for c in range(b, limit) if a**2 + b**2 == c**2]\n",
    "    return triplets\n",
    "\n",
    "# Input: Set the upper limit for generating Pythagorean triplets\n",
    "limit = 20\n",
    "\n",
    "# Generate and print the list of Pythagorean triplets up to the given limit\n",
    "pythagorean_triplets = generate_pythagorean_triplets(limit)\n",
    "print(pythagorean_triplets)\n"
   ]
  },
  {
   "cell_type": "markdown",
   "id": "9ff677da-cfff-44c1-affb-7303270dfe1b",
   "metadata": {},
   "source": [
    "33. Develop a program that generates a list of all possible combinations of two lists using list comprehension."
   ]
  },
  {
   "cell_type": "code",
   "execution_count": 12,
   "id": "ee5e73c4-8096-43d0-8f8e-0b7b92a6a0ff",
   "metadata": {},
   "outputs": [
    {
     "name": "stdout",
     "output_type": "stream",
     "text": [
      "[(1, 6), (1, 7), (1, 8), (1, 9), (2, 6), (2, 7), (2, 8), (2, 9), (3, 6), (3, 7), (3, 8), (3, 9), (4, 6), (4, 7), (4, 8), (4, 9), (5, 6), (5, 7), (5, 8), (5, 9)]\n"
     ]
    }
   ],
   "source": [
    "lst1=[1,2,3,4,5]\n",
    "lst2=[6,7,8,9]\n",
    "lst_combination=[(a,b) for a in lst1 for b in lst2]\n",
    "\n",
    "# Printing the list of combinations\n",
    "print(lst_combination)"
   ]
  },
  {
   "cell_type": "markdown",
   "id": "31bc129a-2161-48c7-941b-8c36317d8c3d",
   "metadata": {},
   "source": [
    "34. Write a program that calculates the mean, median, and mode of a list of numbers using list\n",
    "comprehension."
   ]
  },
  {
   "cell_type": "code",
   "execution_count": 19,
   "id": "1cab0f44-5364-4d9e-9155-7e557450863a",
   "metadata": {},
   "outputs": [
    {
     "name": "stdout",
     "output_type": "stream",
     "text": [
      "Mean: 14.454545454545455\n",
      "Median: 6.0\n",
      "Mode: 8\n"
     ]
    }
   ],
   "source": [
    "import statistics\n",
    "\n",
    "# Sample list of numbers\n",
    "numbers = [2, 3, 3, 4, 57, 56, 5, 6, 7, 8, 8]\n",
    "\n",
    "# Calculate mean using list comprehension\n",
    "mean = sum(numbers) / len(numbers)\n",
    "\n",
    "# Calculate median using list comprehension\n",
    "sorted_numbers = sorted(numbers)\n",
    "middle = len(sorted_numbers) // 2\n",
    "median = (sorted_numbers[middle] + sorted_numbers[-middle - 1]) / 2\n",
    "\n",
    "# Calculate mode using list comprehension\n",
    "mode = max([(numbers.count(x), x) for x in set(numbers)])[1]\n",
    "\n",
    "# Print the results\n",
    "print(\"Mean:\", mean)\n",
    "print(\"Median:\", median)\n",
    "print(\"Mode:\", mode)"
   ]
  },
  {
   "cell_type": "markdown",
   "id": "30cd95e0-05a2-4374-84cd-b824807f24f2",
   "metadata": {},
   "source": [
    "35. Create a program that generates Pascal's triangle up to a specified number of rows using list\n",
    "comprehension."
   ]
  },
  {
   "cell_type": "code",
   "execution_count": 1,
   "id": "be285f7b-d51c-4179-b748-e29736cfa792",
   "metadata": {},
   "outputs": [
    {
     "name": "stdin",
     "output_type": "stream",
     "text": [
      "Enter the number of rows for Pascal's triangle:  5\n"
     ]
    },
    {
     "name": "stdout",
     "output_type": "stream",
     "text": [
      "    1    \n",
      "   1 1   \n",
      "  1 2 1  \n",
      " 1 3 3 1 \n",
      "1 4 6 4 1\n"
     ]
    }
   ],
   "source": [
    "def generate_pascals_triangle(num_rows):\n",
    "    if num_rows <= 0:\n",
    "        return []\n",
    "\n",
    "    pascals_triangle = [[1]]\n",
    "    for _ in range(1, num_rows):\n",
    "        # Generate the next row using list comprehension\n",
    "        previous_row = pascals_triangle[-1]\n",
    "        new_row = [1] + [previous_row[i] + previous_row[i + 1] for i in range(len(previous_row) - 1)] + [1]\n",
    "        pascals_triangle.append(new_row)\n",
    "\n",
    "    return pascals_triangle\n",
    "\n",
    "def display_pascals_triangle(pascals_triangle):\n",
    "    max_width = len(' '.join(map(str, pascals_triangle[-1])))\n",
    "    for row in pascals_triangle:\n",
    "        row_str = ' '.join(map(str, row))\n",
    "        print(row_str.center(max_width))\n",
    "\n",
    "if __name__ == \"__main__\":\n",
    "    num_rows = int(input(\"Enter the number of rows for Pascal's triangle: \"))\n",
    "    pascals_triangle = generate_pascals_triangle(num_rows)\n",
    "    display_pascals_triangle(pascals_triangle)\n"
   ]
  },
  {
   "cell_type": "markdown",
   "id": "4653e485-069f-4d60-8e68-b5f0083475b6",
   "metadata": {},
   "source": [
    "36. Develop a program that calculates the sum of the digits of a factorial of numbers from 1 to 5 using list\n",
    "comprehension."
   ]
  },
  {
   "cell_type": "code",
   "execution_count": 2,
   "id": "abfe3444-77f1-432e-8d94-245bd3c4bb47",
   "metadata": {},
   "outputs": [
    {
     "name": "stdout",
     "output_type": "stream",
     "text": [
      "The factorial of 1 is 1, and the sum of its digits is 1\n",
      "The factorial of 2 is 2, and the sum of its digits is 2\n",
      "The factorial of 3 is 6, and the sum of its digits is 6\n",
      "The factorial of 4 is 24, and the sum of its digits is 6\n",
      "The factorial of 5 is 120, and the sum of its digits is 3\n"
     ]
    }
   ],
   "source": [
    "import math\n",
    "\n",
    "# Function to calculate the sum of digits of a number\n",
    "def sum_of_digits(number):\n",
    "    return sum(int(digit) for digit in str(number))\n",
    "\n",
    "# List comprehension to calculate and store the sum of digits of factorials\n",
    "factorials = [math.factorial(n) for n in range(1, 6)]\n",
    "sums_of_digits = [sum_of_digits(factorial) for factorial in factorials]\n",
    "\n",
    "# Display the results\n",
    "for n, factorial, sum_digits in zip(range(1, 6), factorials, sums_of_digits):\n",
    "    print(f\"The factorial of {n} is {factorial}, and the sum of its digits is {sum_digits}\")\n"
   ]
  },
  {
   "cell_type": "markdown",
   "id": "458ae204-00c4-470e-9c1c-f52e06e680d2",
   "metadata": {},
   "source": [
    "37. Write a program that finds the longest word in a sentence using list comprehension."
   ]
  },
  {
   "cell_type": "code",
   "execution_count": 3,
   "id": "d48307fa-7156-418c-85d9-2587a7c2ef71",
   "metadata": {},
   "outputs": [
    {
     "name": "stdin",
     "output_type": "stream",
     "text": [
      "Enter a sentence:  frf dff sdf\n"
     ]
    },
    {
     "name": "stdout",
     "output_type": "stream",
     "text": [
      "The longest word in the sentence is: frf\n"
     ]
    }
   ],
   "source": [
    "# Function to find the longest word in a sentence\n",
    "def find_longest_word(sentence):\n",
    "    words = sentence.split()  # Split the sentence into words\n",
    "    longest_word = max(words, key=len)  # Use list comprehension to find the longest word\n",
    "    return longest_word\n",
    "\n",
    "# Input sentence\n",
    "sentence = input(\"Enter a sentence: \")\n",
    "\n",
    "# Find the longest word\n",
    "longest_word = find_longest_word(sentence)\n",
    "\n",
    "# Display the result\n",
    "print(f\"The longest word in the sentence is: {longest_word}\")\n"
   ]
  },
  {
   "cell_type": "markdown",
   "id": "c38c79ef-8d1d-42eb-8b25-0518a353ee38",
   "metadata": {},
   "source": [
    "38. Create a program that filters a list of strings to include only those with more than three vowels using list\n",
    "comprehension."
   ]
  },
  {
   "cell_type": "code",
   "execution_count": 3,
   "id": "194fda86-dcfd-4b64-9cf4-6003ab47df37",
   "metadata": {},
   "outputs": [
    {
     "name": "stdout",
     "output_type": "stream",
     "text": [
      "New List ['aaae', 'gttioioi']\n"
     ]
    }
   ],
   "source": [
    "# check the vowels present in string is more than 3 or not\n",
    "def vowels_check(string):\n",
    "    vowels=\"aeiouAEIOU\"\n",
    "    counter=0\n",
    "    for i in string:\n",
    "        if i in vowels:\n",
    "            counter+=1\n",
    "        if counter>3:\n",
    "            return True\n",
    "\n",
    "# create new list with more than three vowels present in string\n",
    "def filter_list(lst):\n",
    "    new_lst=[i for i in lst if vowels_check(i)==True]\n",
    "    return new_lst\n",
    "    \n",
    "lst=[\"ddsdf\",\"aaae\",\"gttioioi\"]\n",
    "print(\"New List\",filter_list(lst))"
   ]
  },
  {
   "cell_type": "markdown",
   "id": "2e303c0c-97e7-42bb-9bb1-72db080a8240",
   "metadata": {},
   "source": [
    "39. Develop a program that calculates the sum of the digits of numbers from 1 to 1000 using list\n",
    "comprehension."
   ]
  },
  {
   "cell_type": "code",
   "execution_count": 4,
   "id": "4e7033b0-160b-429a-85bd-9c639be52b90",
   "metadata": {},
   "outputs": [
    {
     "name": "stdout",
     "output_type": "stream",
     "text": [
      "The sum of the digits of numbers from 1 to 1000 is: 13501\n"
     ]
    }
   ],
   "source": [
    "# Define a function to calculate the sum of the digits of a number\n",
    "def digit_sum(n):\n",
    "    return sum(int(digit) for digit in str(n))\n",
    "\n",
    "# Use list comprehension to calculate the sum of digits for numbers from 1 to 1000\n",
    "sum_of_digits = [digit_sum(number) for number in range(1, 1001)]\n",
    "\n",
    "# Calculate the total sum of all the digit sums\n",
    "total_sum = sum(sum_of_digits)\n",
    "\n",
    "# Print the total sum\n",
    "print(\"The sum of the digits of numbers from 1 to 1000 is:\", total_sum)\n"
   ]
  },
  {
   "cell_type": "markdown",
   "id": "c480dba7-4eb5-4cd7-b31c-1f1ae457e2e4",
   "metadata": {},
   "source": [
    "40. Write a program that generates a list of prime palindromic numbers using list comprehension."
   ]
  },
  {
   "cell_type": "code",
   "execution_count": 5,
   "id": "1b463d9e-ea4f-4be3-bcab-8c09d7e932b4",
   "metadata": {},
   "outputs": [
    {
     "name": "stdout",
     "output_type": "stream",
     "text": [
      "Prime Palindromic Numbers: [2, 3, 5, 7, 11, 101, 131, 151, 181, 191, 313, 353, 373, 383, 727, 757, 787, 797, 919, 929]\n"
     ]
    }
   ],
   "source": [
    "# Define a function to check if a number is prime\n",
    "def is_prime(n):\n",
    "    if n <= 1:\n",
    "        return False\n",
    "    if n <= 3:\n",
    "        return True\n",
    "    if n % 2 == 0 or n % 3 == 0:\n",
    "        return False\n",
    "    i = 5\n",
    "    while i * i <= n:\n",
    "        if n % i == 0 or n % (i + 2) == 0:\n",
    "            return False\n",
    "        i += 6\n",
    "    return True\n",
    "\n",
    "# Generate a list of prime palindromic numbers using list comprehension\n",
    "prime_palindromic_numbers = [num for num in range(2, 1000) if is_prime(num) and str(num) == str(num)[::-1]]\n",
    "\n",
    "# Print the list of prime palindromic numbers\n",
    "print(\"Prime Palindromic Numbers:\", prime_palindromic_numbers)\n"
   ]
  },
  {
   "cell_type": "code",
   "execution_count": null,
   "id": "7cbbc855-29b5-4ad0-9750-3ffa25df2c91",
   "metadata": {},
   "outputs": [],
   "source": []
  }
 ],
 "metadata": {
  "kernelspec": {
   "display_name": "Python 3 (ipykernel)",
   "language": "python",
   "name": "python3"
  },
  "language_info": {
   "codemirror_mode": {
    "name": "ipython",
    "version": 3
   },
   "file_extension": ".py",
   "mimetype": "text/x-python",
   "name": "python",
   "nbconvert_exporter": "python",
   "pygments_lexer": "ipython3",
   "version": "3.10.8"
  }
 },
 "nbformat": 4,
 "nbformat_minor": 5
}
